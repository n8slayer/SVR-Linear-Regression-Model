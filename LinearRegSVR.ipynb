{
 "cells": [
  {
   "cell_type": "code",
   "execution_count": 30,
   "metadata": {},
   "outputs": [],
   "source": [
    "import quandl\n",
    "import numpy as np \n",
    "import matplotlib.pyplot as plt\n",
    "from sklearn.linear_model import LinearRegression\n",
    "from sklearn.svm import SVR\n",
    "from sklearn.model_selection import train_test_split"
   ]
  },
  {
   "cell_type": "code",
   "execution_count": 2,
   "metadata": {},
   "outputs": [],
   "source": [
    "TSLA = quandl.get(\"WIKI/TSLA\")"
   ]
  },
  {
   "cell_type": "code",
   "execution_count": 10,
   "metadata": {},
   "outputs": [
    {
     "name": "stdout",
     "output_type": "stream",
     "text": [
      "              Open    High     Low   Close      Volume  Ex-Dividend  \\\n",
      "Date                                                                  \n",
      "2018-03-21  310.25  322.44  310.19  316.53   5927881.0          0.0   \n",
      "2018-03-22  313.89  318.82  308.18  309.10   4914307.0          0.0   \n",
      "2018-03-23  311.25  311.61  300.45  301.54   6600538.0          0.0   \n",
      "2018-03-26  307.34  307.59  291.36  304.18   8324639.0          0.0   \n",
      "2018-03-27  304.00  304.27  277.18  279.18  13696168.0          0.0   \n",
      "\n",
      "            Split Ratio  Adj. Open  Adj. High  Adj. Low  Adj. Close  \\\n",
      "Date                                                                  \n",
      "2018-03-21          1.0     310.25     322.44    310.19      316.53   \n",
      "2018-03-22          1.0     313.89     318.82    308.18      309.10   \n",
      "2018-03-23          1.0     311.25     311.61    300.45      301.54   \n",
      "2018-03-26          1.0     307.34     307.59    291.36      304.18   \n",
      "2018-03-27          1.0     304.00     304.27    277.18      279.18   \n",
      "\n",
      "            Adj. Volume  Predicted  \n",
      "Date                                \n",
      "2018-03-21    5927881.0        NaN  \n",
      "2018-03-22    4914307.0        NaN  \n",
      "2018-03-23    6600538.0        NaN  \n",
      "2018-03-26    8324639.0        NaN  \n",
      "2018-03-27   13696168.0        NaN  \n"
     ]
    }
   ],
   "source": [
    "forecast_len=90\n",
    "TSLA['Predicted'] = TSLA[['Adj. Close']].shift(-forecast_len)\n",
    "print(TSLA.tail())"
   ]
  },
  {
   "cell_type": "code",
   "execution_count": 17,
   "metadata": {},
   "outputs": [],
   "source": [
    "#create testing data\n",
    "x = np.array(TSLA.drop(['Predicted'],1))\n",
    "x = x[:-forecast_len]\n",
    "y = np.array(TSLA['Predicted'])\n",
    "y = y[:-forecast_len]"
   ]
  },
  {
   "cell_type": "code",
   "execution_count": 20,
   "metadata": {},
   "outputs": [],
   "source": [
    "#split data\n",
    "x_train,x_test, y_train, y_test = train_test_split(x,y,test_size =0.25)"
   ]
  },
  {
   "cell_type": "code",
   "execution_count": 24,
   "metadata": {},
   "outputs": [
    {
     "name": "stdout",
     "output_type": "stream",
     "text": [
      "SVR Confidence: 0.33%\n"
     ]
    }
   ],
   "source": [
    "#Model and print\n",
    "svr_rbf= SVR(kernel = 'rbf', C= 1e3, gamma = 0.1)\n",
    "svr_rbf.fit(x_train, y_train)\n",
    "svr_rbf_confidence = svr_rbf.score(x_test, y_test)\n",
    "svr_rbf_confidence=svr_rbf.score(x_test,y_test)\n",
    "print(f\"SVR Confidence: {round(svr_rbf_confidence*100,2)}%\")"
   ]
  },
  {
   "cell_type": "code",
   "execution_count": 29,
   "metadata": {},
   "outputs": [
    {
     "name": "stdout",
     "output_type": "stream",
     "text": [
      "Linear Regression Confidence: 87.79%\n"
     ]
    }
   ],
   "source": [
    "#linear model\n",
    "linear = LinearRegression()\n",
    "linear.fit(x_train, y_train)\n",
    "linear_confident = linear.score(x_test, y_test)\n",
    "print(f\"Linear Regression Confidence: {round(linear_confident*100,2)}%\")"
   ]
  },
  {
   "cell_type": "code",
   "execution_count": 35,
   "metadata": {},
   "outputs": [
    {
     "data": {
      "text/plain": [
       "[<matplotlib.lines.Line2D at 0x2651215e2c8>]"
      ]
     },
     "execution_count": 35,
     "metadata": {},
     "output_type": "execute_result"
    },
    {
     "data": {
      "image/png": "[encoded data removed]",
      "text/plain": [
       "<Figure size 432x288 with 1 Axes>"
      ]
     },
     "metadata": {
      "needs_background": "light"
     },
     "output_type": "display_data"
    }
   ],
   "source": []
  },
  {
   "cell_type": "code",
   "execution_count": null,
   "metadata": {},
   "outputs": [],
   "source": []
  }
 ],
 "metadata": {
  "kernelspec": {
   "display_name": "Python 3",
   "language": "python",
   "name": "python3"
  },
  "language_info": {
   "codemirror_mode": {
    "name": "ipython",
    "version": 3
   },
   "file_extension": ".py",
   "mimetype": "text/x-python",
   "name": "python",
   "nbconvert_exporter": "python",
   "pygments_lexer": "ipython3",
   "version": "3.7.6"
  }
 },
 "nbformat": 4,
 "nbformat_minor": 4
}
